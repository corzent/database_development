{
 "cells": [
  {
   "cell_type": "markdown",
   "metadata": {},
   "source": [
    "any\n",
    "\n",
    "select * from products\n",
    "where price < any (\n",
    "    select price from products\n",
    "    where manufacturer = 'Apple' \n",
    ");\n",
    "\n",
    "x > any(1, 2) -- x > 1\n",
    "x < any(1, 2) -- x < 1"
   ]
  },
  {
   "cell_type": "markdown",
   "metadata": {},
   "source": [
    "коррелирующие/некоррелирующие запросы\n",
    "\n",
    "примеры\n",
    "\n",
    "select created_at, product_count, \n",
    "    (select product_name\n",
    "    from products\n",
    "    where products.id = something)\n",
    "\n",
    "\n",
    "тут короче используется select & where. и это называется коррелирующие подзапросы\n"
   ]
  },
  {
   "cell_type": "markdown",
   "metadata": {},
   "source": [
    "вложенные запросы. примеры подзапроса в выражении update\n",
    "\n",
    "update orders \n",
    "set product_count = product_count + 2\n",
    "where product_id in (\n",
    "    select id from products\n",
    "    where manufacturer = 'Apple'\n",
    ");\n",
    "\n",
    "оператор set\n",
    "\n",
    "update products\n",
    "set product_count = product_count - (\n",
    "    select sum(product_count) from orders\n",
    "    where orders.product_id = products.id\n",
    ")"
   ]
  },
  {
   "cell_type": "markdown",
   "metadata": {},
   "source": [
    "delete\n",
    "\n",
    "delete from orders \n",
    "where product_id = (\n",
    "    select id from products\n",
    "    where product_name = 'Galaxy A12'\n",
    ");"
   ]
  },
  {
   "cell_type": "markdown",
   "metadata": {},
   "source": [
    "классификация многотабличных запросов"
   ]
  },
  {
   "cell_type": "markdown",
   "metadata": {},
   "source": [
    "запросы к нескольким таблицам\n",
    "\n",
    "с помощью primary_key & foreign_key\n",
    "\n",
    "(on delete cascade прочекать)"
   ]
  },
  {
   "cell_type": "markdown",
   "metadata": {},
   "source": [
    "запросы к нескольким таблицам\n",
    "\n",
    "insert into products (product_name, product_count)"
   ]
  },
  {
   "cell_type": "markdown",
   "metadata": {},
   "source": [
    "insert insert customers (first_name)\n",
    "values\n",
    "('Tom'),\n",
    "('Bob');"
   ]
  },
  {
   "cell_type": "markdown",
   "metadata": {},
   "source": [
    "insert into orders (product_id, customer_id, created_at, product_count)\n",
    "values\n",
    "(\n",
    "    (select product_id from products where product_name='Galaxy S22'),\n",
    "    (select customer_id from customers where first_name='Tom'),\n",
    "    '2022-05-21',\n",
    "    2\n",
    ")"
   ]
  },
  {
   "cell_type": "markdown",
   "metadata": {},
   "source": [
    "использование псевдонимов таблиц (as)\n",
    "\n",
    "select c.first_name, p.product_name"
   ]
  },
  {
   "cell_type": "markdown",
   "metadata": {},
   "source": [
    "соединения JOIN\n",
    "\n",
    "внутреннее соединение\n",
    "\n"
   ]
  },
  {
   "cell_type": "markdown",
   "metadata": {},
   "source": [
    "union"
   ]
  },
  {
   "cell_type": "markdown",
   "metadata": {},
   "source": [
    "declare"
   ]
  },
  {
   "cell_type": "markdown",
   "metadata": {},
   "source": [
    "локальные переменные "
   ]
  },
  {
   "cell_type": "markdown",
   "metadata": {},
   "source": [
    "if then else\n",
    "\n",
    "create function"
   ]
  },
  {
   "cell_type": "markdown",
   "metadata": {},
   "source": [
    "case \n",
    "\n",
    "repeat\n",
    "\n",
    "do while\n",
    "\n",
    "цикл loop\n"
   ]
  },
  {
   "cell_type": "markdown",
   "metadata": {},
   "source": []
  }
 ],
 "metadata": {
  "language_info": {
   "name": "python"
  }
 },
 "nbformat": 4,
 "nbformat_minor": 2
}
