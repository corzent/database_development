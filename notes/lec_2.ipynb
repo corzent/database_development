{
 "cells": [
  {
   "cell_type": "markdown",
   "metadata": {},
   "source": [
    "- Основные понятия и модели бд.\n",
    "- Логическая и физическая струуктура бд.\n",
    "- Связь бд. \n",
    "- Первичный, вторичный, внешний ключ.\n",
    "- Операторы join, where, groupby, sortby."
   ]
  },
  {
   "cell_type": "markdown",
   "metadata": {},
   "source": []
  },
  {
   "cell_type": "markdown",
   "metadata": {},
   "source": [
    "вторая лаба - схама бд"
   ]
  }
 ],
 "metadata": {
  "language_info": {
   "name": "python"
  }
 },
 "nbformat": 4,
 "nbformat_minor": 2
}
